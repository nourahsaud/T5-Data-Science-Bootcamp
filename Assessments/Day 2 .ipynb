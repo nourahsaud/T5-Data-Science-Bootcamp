{
 "cells": [
  {
   "cell_type": "code",
   "execution_count": 13,
   "id": "22834968",
   "metadata": {},
   "outputs": [
    {
     "name": "stdout",
     "output_type": "stream",
     "text": [
      "enter password please ssssdas\n",
      "Invalid Password\n"
     ]
    }
   ],
   "source": [
    "special_characters = \"!@#$%^&*()-+?_=,<>/\"\n",
    "password =input(\"enter password please \")\n",
    "contains_digit = any(map(str.isdigit, password))\n",
    "contains_capital = any(map(str.isupper, password))\n",
    "contains_small = any(map(str.islower, password))\n",
    "contains_char  =  any(c in special_characters for c in password)\n",
    "\n",
    "def check(password):\n",
    "    passLen = len(password)\n",
    "    if (contains_digit==False) | (contains_char==False) | (contains_capital==False) | (contains_small==False) | (passLen < 6 & passLen > 16):\n",
    "        print('Invalid Password')\n",
    "    else:\n",
    "        print(\"Valid password\")\n",
    "        \n",
    "\n",
    "check(password)"
   ]
  },
  {
   "cell_type": "code",
   "execution_count": null,
   "id": "5bd37c22",
   "metadata": {},
   "outputs": [],
   "source": []
  }
 ],
 "metadata": {
  "kernelspec": {
   "display_name": "Python 3",
   "language": "python",
   "name": "python3"
  },
  "language_info": {
   "codemirror_mode": {
    "name": "ipython",
    "version": 3
   },
   "file_extension": ".py",
   "mimetype": "text/x-python",
   "name": "python",
   "nbconvert_exporter": "python",
   "pygments_lexer": "ipython3",
   "version": "3.8.8"
  }
 },
 "nbformat": 4,
 "nbformat_minor": 5
}
